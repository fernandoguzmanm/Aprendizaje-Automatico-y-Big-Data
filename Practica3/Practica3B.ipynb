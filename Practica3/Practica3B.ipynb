{
 "cells": [
  {
   "cell_type": "code",
   "execution_count": 1,
   "id": "61dc828a",
   "metadata": {},
   "outputs": [],
   "source": [
    "#Parte B\n",
    "#Importamos las librerias necesarias\n",
    "import torch\n",
    "import torchvision\n",
    "import torchvision.transforms as transforms\n",
    "import torch.nn as nn\n",
    "import torch.nn.functional as F\n",
    "import torch.optim as optim\n",
    "import matplotlib.pyplot as plt\n",
    "import numpy as np\n",
    "\n"
   ]
  },
  {
   "cell_type": "code",
   "execution_count": 2,
   "id": "2bd2099c",
   "metadata": {},
   "outputs": [
    {
     "name": "stdout",
     "output_type": "stream",
     "text": [
      "Usando el dispositivo: cuda\n"
     ]
    }
   ],
   "source": [
    "# Detectar dispositivo (CPU o GPU) # Para utilizar la GPU si está disponible, de lo contrario, usar la CPU\n",
    "device = torch.device(\"cuda\" if torch.cuda.is_available() else \"cpu\")\n",
    "print(f\"Usando el dispositivo: {device}\")\n",
    "\n",
    "# Definimos una transformación para convertir las imágenes a tensores y normalizar los valores de los píxeles\n",
    "transform = transforms.Compose([\n",
    "    transforms.ToTensor(),\n",
    "    transforms.Normalize((0.5,), (0.5,))  # Normalización con media 0.5 y desviación estándar 0.5\n",
    "])\n",
    "\n",
    "### Carga del dataset MNIST\n",
    "# Descarga y carga de los datos de entrenamiento y prueba\n",
    "trainset = torchvision.datasets.MNIST(root='./data', train=True, download=True, transform=transform)\n",
    "testset = torchvision.datasets.MNIST(root='./data', train=False, download=True, transform=transform)\n",
    "\n",
    "trainloader = torch.utils.data.DataLoader(trainset, batch_size=64, shuffle=True)\n",
    "testloader = torch.utils.data.DataLoader(testset, batch_size=64, shuffle=False)\n"
   ]
  },
  {
   "cell_type": "code",
   "execution_count": 3,
   "id": "d59828eb",
   "metadata": {},
   "outputs": [],
   "source": [
    "## Configuración A\n",
    "# - Batch size: 64\n",
    "# - Capas convolucionales: 2\n",
    "# - Filtros: 32 y 64\n",
    "# - Kernel: 3x3\n",
    "# - Pooling: 2x2\n",
    "# - Capas conectadas: 2\n",
    "# - Neuronas en capa oculta: 128\n",
    "# - Tasa de aprendizaje: 0.01\n",
    "# - Épocas: 5\n",
    "\n",
    "class NetA(nn.Module):\n",
    "    def __init__(self):\n",
    "        super(NetA, self).__init__()\n",
    "        self.conv1 = nn.Conv2d(1, 32, kernel_size=3)  # Primera capa convolucional con 32 filtros de 3x3\n",
    "        self.conv2 = nn.Conv2d(32, 64, kernel_size=3)  # Segunda capa convolucional con 64 filtros de 3x3\n",
    "        self.pool = nn.MaxPool2d(kernel_size=2, stride=2)  # Capa de pooling con reducción 2x2\n",
    "        self.fc1 = nn.Linear(64 * 5 * 5, 128)  # Capa completamente conectada con 128 neuronas\n",
    "        self.fc2 = nn.Linear(128, 10)  # Capa de salida con 10 neuronas (una por cada dígito)\n",
    "\n",
    "    def forward(self, x):\n",
    "        x = self.pool(F.relu(self.conv1(x)))  # Aplicamos convolución, ReLU y luego MaxPooling\n",
    "        x = self.pool(F.relu(self.conv2(x)))\n",
    "        #print(f\"Forma después de convoluciones: {x.shape}\")  # Depuración\n",
    "        x = x.view(-1, 64 * 5 * 5)  # Aplanamos la matriz de características\n",
    "        x = F.relu(self.fc1(x))  # Primera capa conectada con función de activación ReLU\n",
    "        x = self.fc2(x)  # Capa de salida sin activación porque usamos CrossEntropyLoss\n",
    "        return x"
   ]
  },
  {
   "cell_type": "code",
   "execution_count": 4,
   "id": "ce8c65d3",
   "metadata": {},
   "outputs": [],
   "source": [
    "## Configuración B\n",
    "# - Batch size: 64\n",
    "# - Capas convolucionales: 2\n",
    "# - Filtros: 16, 32\n",
    "# - Kernel: 5x5\n",
    "# - Pooling: 2x2\n",
    "# - Capas conectadas: 3\n",
    "# - Neuronas en capas ocultas: 256 y 128\n",
    "# - Tasa de aprendizaje: 0.001\n",
    "# - Épocas: 7\n",
    "\n",
    "class NetB(nn.Module):\n",
    "    def __init__(self):\n",
    "        super(NetB, self).__init__()\n",
    "        self.conv1 = nn.Conv2d(1, 16, kernel_size=5)\n",
    "        self.conv2 = nn.Conv2d(16, 32, kernel_size=5)\n",
    "        self.pool = nn.MaxPool2d(kernel_size=2, stride=2)\n",
    "        self.fc1 = nn.Linear(32 * 4 * 4, 256)\n",
    "        self.fc2 = nn.Linear(256, 128)\n",
    "        self.fc3 = nn.Linear(128, 10)\n",
    "\n",
    "    def forward(self, x):\n",
    "        x = self.pool(F.relu(self.conv1(x)))\n",
    "        x = self.pool(F.relu(self.conv2(x)))\n",
    "        x = x.view(x.size(0), -1)  # Ajuste dinámico del tamaño\n",
    "        x = F.relu(self.fc1(x))\n",
    "        x = F.relu(self.fc2(x))\n",
    "        x = self.fc3(x)\n",
    "        return x\n",
    "\n"
   ]
  },
  {
   "cell_type": "code",
   "execution_count": 5,
   "id": "e0fbbfde",
   "metadata": {},
   "outputs": [],
   "source": [
    "### Definición de la Función de Pérdida y Optimizador\n",
    "# Usamos CrossEntropyLoss y SGD para ambas configuraciones\n",
    "netA = NetA().to(device)\n",
    "netB = NetB().to(device)\n",
    "\n",
    "criterion = nn.CrossEntropyLoss()\n",
    "optimizerA = optim.SGD(netA.parameters(), lr=0.01, momentum=0.9)\n",
    "optimizerB = optim.SGD(netB.parameters(), lr=0.001, momentum=0.9)"
   ]
  },
  {
   "cell_type": "code",
   "execution_count": 6,
   "id": "0c0070cc",
   "metadata": {},
   "outputs": [
    {
     "name": "stdout",
     "output_type": "stream",
     "text": [
      "Entrenando Red A en cuda\n",
      "Epoch 1, Loss: 0.2388832120052072\n",
      "Epoch 2, Loss: 0.057991880008569564\n",
      "Epoch 3, Loss: 0.04007739840653231\n",
      "Epoch 4, Loss: 0.030672359534279645\n",
      "Epoch 5, Loss: 0.024561778717851295\n",
      "Entrenando Red B en cuda\n",
      "Epoch 1, Loss: 1.4953734555891327\n",
      "Epoch 2, Loss: 0.2536180881517274\n",
      "Epoch 3, Loss: 0.13986190951772845\n",
      "Epoch 4, Loss: 0.10242959965211051\n",
      "Epoch 5, Loss: 0.08366065358878104\n",
      "Epoch 6, Loss: 0.0731227705979954\n",
      "Epoch 7, Loss: 0.06496036454324307\n"
     ]
    }
   ],
   "source": [
    "### Entrenamiento de las redes\n",
    "# Implementaremos la función de entrenamiento para ambas configuraciones\n",
    "\n",
    "def train_model(net, optimizer, epochs, trainloader):\n",
    "    for epoch in range(epochs):\n",
    "        running_loss = 0.0\n",
    "        for images, labels in trainloader:\n",
    "            images, labels = images.to(device), labels.to(device)  # Mover datos a GPU\n",
    "            optimizer.zero_grad()\n",
    "            outputs = net(images)\n",
    "            loss = criterion(outputs, labels)\n",
    "            loss.backward()\n",
    "            optimizer.step()\n",
    "            running_loss += loss.item()\n",
    "        print(f'Epoch {epoch+1}, Loss: {running_loss/len(trainloader)}')\n",
    "\n",
    "# Entrenamos ambas redes\n",
    "\n",
    "\n",
    "print(\"Entrenando Red A en\", device)\n",
    "train_model(netA, optimizerA, 5, trainloader)\n",
    "print(\"Entrenando Red B en\", device)\n",
    "train_model(netB, optimizerB, 7, trainloader)"
   ]
  },
  {
   "cell_type": "code",
   "execution_count": 7,
   "id": "c2bc1236",
   "metadata": {},
   "outputs": [
    {
     "name": "stdout",
     "output_type": "stream",
     "text": [
      "Accuracy total: 98.85%\n",
      "Accuracy de la clase 0: 99.59183673469387%\n",
      "Accuracy de la clase 1: 99.8237885462555%\n",
      "Accuracy de la clase 2: 99.51550387596899%\n",
      "Accuracy de la clase 3: 98.41584158415841%\n",
      "Accuracy de la clase 4: 99.79633401221996%\n",
      "Accuracy de la clase 5: 99.43946188340807%\n",
      "Accuracy de la clase 6: 98.64300626304802%\n",
      "Accuracy de la clase 7: 99.22178988326849%\n",
      "Accuracy de la clase 8: 98.76796714579055%\n",
      "Accuracy de la clase 9: 95.24281466798811%\n",
      "Accuracy total: 98.15%\n",
      "Accuracy de la clase 0: 99.38775510204081%\n",
      "Accuracy de la clase 1: 99.38325991189427%\n",
      "Accuracy de la clase 2: 98.83720930232558%\n",
      "Accuracy de la clase 3: 98.91089108910892%\n",
      "Accuracy de la clase 4: 98.06517311608961%\n",
      "Accuracy de la clase 5: 97.53363228699551%\n",
      "Accuracy de la clase 6: 98.01670146137788%\n",
      "Accuracy de la clase 7: 97.08171206225681%\n",
      "Accuracy de la clase 8: 98.04928131416838%\n",
      "Accuracy de la clase 9: 96.0356788899901%\n"
     ]
    }
   ],
   "source": [
    "### Evaluación del modelo\n",
    "# Función para calcular el accuracy total y por clase\n",
    "\n",
    "def evaluate_model(net, testloader):\n",
    "    net.eval()\n",
    "    correct = 0\n",
    "    total = 0\n",
    "    class_correct = [0] * 10\n",
    "    class_total = [0] * 10\n",
    "    with torch.no_grad():\n",
    "        for images, labels in testloader:\n",
    "            images, labels = images.to(device), labels.to(device)\n",
    "            outputs = net(images)\n",
    "            _, predicted = torch.max(outputs, 1)\n",
    "            total += labels.size(0)\n",
    "            correct += (predicted == labels).sum().item()\n",
    "            for i in range(len(labels)):\n",
    "                class_correct[labels[i]] += (predicted[i] == labels[i]).item()\n",
    "                class_total[labels[i]] += 1\n",
    "    accuracy = 100 * correct / total\n",
    "    print(f'Accuracy total: {accuracy}%')\n",
    "    for i in range(10):\n",
    "        print(f'Accuracy de la clase {i}: {100 * class_correct[i] / class_total[i]}%')\n",
    "    return accuracy\n",
    "\n",
    "# Evaluamos ambas redes\n",
    "accuracy_A = evaluate_model(netA, testloader)\n",
    "accuracy_B = evaluate_model(netB, testloader)"
   ]
  },
  {
   "cell_type": "markdown",
   "id": "dcd61bd5",
   "metadata": {},
   "source": [
    "Aun que la red B sea algo mas compleja y tuvo mas epoch de entrenamiento es sutilmente peor que la A, al ser mas compleja internamente habria que haberla dejado durante mas epochs, tambien podria ser que tiene un lr de 0.001 mientras que la A es de 0.01 esto tambien ha podido afectar al aprendizaje mas lento\n",
    "tampoco tiene mucho sentido seguir entrenando la B para ver si mejora su resultado si la red A ya funciona algo mejor siendo mas simple"
   ]
  },
  {
   "cell_type": "code",
   "execution_count": 8,
   "id": "5e7edc63",
   "metadata": {},
   "outputs": [
    {
     "data": {
      "image/png": "[encoded data removed]",
      "text/plain": [
       "<Figure size 640x480 with 1 Axes>"
      ]
     },
     "metadata": {},
     "output_type": "display_data"
    }
   ],
   "source": [
    "# Gráfica de barras para comparar resultados\n",
    "\n",
    "labels = ['Red A', 'Red B']\n",
    "accuracies = [accuracy_A, accuracy_B]\n",
    "plt.bar(labels, accuracies, color=['blue', 'red'])\n",
    "plt.xlabel('Modelo')\n",
    "plt.ylabel('Accuracy (%)')\n",
    "plt.title('Comparación de Accuracy entre Red A y Red B')\n",
    "plt.show()"
   ]
  },
  {
   "cell_type": "markdown",
   "id": "351fffa6",
   "metadata": {},
   "source": [
    "(La grafica no es muy significativa ya que tienen valores muy similares y no se ve diferencia alguna)"
   ]
  },
  {
   "cell_type": "code",
   "execution_count": 9,
   "id": "4f7d4d51",
   "metadata": {},
   "outputs": [
    {
     "data": {
      "image/png": "[encoded data removed]",
      "text/plain": [
       "<Figure size 640x480 with 1 Axes>"
      ]
     },
     "metadata": {},
     "output_type": "display_data"
    }
   ],
   "source": [
    "# Gráfica de barras para comparar resultados\n",
    "labels = ['Red A', 'Red B']\n",
    "accuracies = [accuracy_A, accuracy_B]\n",
    "plt.bar(labels, accuracies, color=['blue', 'red'])\n",
    "plt.xlabel('Modelo')\n",
    "plt.ylabel('Accuracy (%)')\n",
    "plt.title('Comparación de Accuracy entre Red A y Red B')\n",
    "plt.show()"
   ]
  },
  {
   "cell_type": "markdown",
   "id": "77aae459",
   "metadata": {},
   "source": [
    "PREGUNTAS:"
   ]
  },
  {
   "cell_type": "markdown",
   "id": "77943f92",
   "metadata": {},
   "source": [
    "1-El batch size define cuántos ejemplos de entrenamiento se procesan antes de actualizar los pesos del modelo.\n",
    "\n",
    "Si batch_size = 4, significa que en cada iteración, la red toma 4 imágenes, calcula su pérdida y ajusta los pesos en función de ese pequeño grupo.\n",
    "\n",
    "En una epoch, el modelo pasa por todos los datos dividiéndolos en lotes de 4.\n",
    "\n",
    "Con un batch pequeño, hay actualizaciones más frecuentes de los pesos, lo que puede hacer que el entrenamiento sea más ruidoso pero permita salir de mínimos locales.\n",
    "\n",
    "Con un batch grande, hay menos ruido pero el entrenamiento puede ser más lento y requerir más memoria.\n",
    "\n",
    "En general, batch_size = 4 es pequeño y puede hacer que el entrenamiento sea más inestable, pero también más dinámico."
   ]
  },
  {
   "cell_type": "markdown",
   "id": "a0a2bf2b",
   "metadata": {},
   "source": [
    "2-En entrenamiento (shuffle=True)\n",
    "\n",
    "Se mezclan los datos en cada epoch para evitar que la red aprenda patrones específicos del orden de los datos.\n",
    "\n",
    "Ayuda a generalizar mejor y evita sesgos en el aprendizaje.\n",
    "\n",
    "En test (shuffle=False)\n",
    "\n",
    "No se mezclan los datos para mantener la misma distribución y evaluar correctamente el modelo.\n",
    "\n",
    "Así, se comparan los resultados de manera consistente.\n",
    "\n",
    "En resumen, se barajan en entrenamiento para mejorar la generalización y no en test para una evaluación estable."
   ]
  },
  {
   "cell_type": "markdown",
   "id": "94152031",
   "metadata": {},
   "source": [
    "3-a. Explicación del constructor y configuración de capas\n",
    "La clase Net define la arquitectura de la CNN en PyTorch. Supongamos que tiene esta estructura:\n",
    "\n",
    "super(NetA, self).__init__(): \n",
    "Llama al constructor de la clase base nn.Module. Es necesario para que PyTorch pueda inicializar correctamente la clase como un módulo de red neuronal\n",
    "\n",
    "\n",
    "self.conv1 = nn.Conv2d(1, 32, kernel_size=3)  # Primera capa convolucional con 32 filtros de 3x3\n",
    "1: Número de canales de entrada (en este caso, la imagen es en escala de grises, por lo que tiene 1 canal)\n",
    "32: Número de filtros o kernels que aplicará esta capa. Esto significa que esta capa extraerá 32 características diferentes\n",
    "kernel_size=3: Tamaño del filtro (3x3), lo que significa que cada filtro es de 3 píxeles por 3 píxeles\n",
    "\n",
    "self.pool = nn.MaxPool2d(kernel_size=2, stride=2)  # Capa de pooling con reducción 2x2\n",
    "kernel_size=2: Tamaño de la ventana de pooling (2x2)\n",
    "stride=2: Desplazamiento de la ventana de pooling. Esto significa que la ventana se moverá 2 píxeles a la vez. La capa reduce las dimensiones de la imagen a la mitad\n",
    "\n",
    "self.fc1 = nn.Linear(64 * 5 * 5, 128)  # Capa completamente conectada con 128 neuronas\n",
    "Crea una capa completamente conectada (fully connected)\n",
    "64 * 5 * 5: Número de entradas a la capa (la salida de la última capa convolucional tiene dimensiones de 64 x 5 x 5 después de las operaciones de convolución y pooling)\n",
    "128: Número de neuronas en esta capa, es decir, cuántas salidas tendrá esta capa.\n",
    "\n",
    "self.fc2 = nn.Linear(128, 10)  # Capa de salida con 10 neuronas (una por cada dígito)\n",
    "(igual q la anteior, entran las 128 de antes y salen las 10 clases distintas)\n",
    "\n",
    "\n",
    "\n",
    "3-b.\n",
    "\n",
    "def forward(self, x)\n",
    "Define la propagación hacia adelante de los datos a través de la red. La entrada x es un tensor de imágenes\n",
    "\n",
    "x = self.pool(F.relu(self.conv1(x)))\n",
    "self.conv1(x): Aplica la primera capa convolucional a la entrada x\n",
    "F.relu(self.conv1(x)): Aplica la función de activación ReLU a la salida de la convolución para introducir no linealidad.\n",
    "self.pool(F.relu(self.conv1(x))): Aplica max pooling para reducir las dimensiones espaciales de la salida de la ReLU.\n",
    "\n",
    "x = self.pool(F.relu(self.conv2(x)))\n",
    "(lo mismo pero para la segunda capa)\n",
    "\n",
    "x.view(-1, 64 * 5 * 5):\n",
    "Aplana las salidas de las capas convolucionales y de pooling en un vector unidimensional para que pueda ser procesado por las capas completamente conectadas. El -1 permite que PyTorch calcule automáticamente el tamaño adecuado de la dimensión restante.\n",
    "\n",
    "return x: Devuelve la salida final, que contiene las probabilidades de cada clase para cada imagen\n",
    "\n",
    "\n",
    "El forward propagation es el proceso en el que los datos de entrada pasan a través de las capas de la red neuronal para obtener una predicción\n"
   ]
  },
  {
   "cell_type": "markdown",
   "id": "a3916d11",
   "metadata": {},
   "source": [
    "4.\n",
    "\n",
    "loss.backward()  # Calcula los gradientes de la pérdida con respecto a los pesos\n",
    "En la funcion def train_model(net, optimizer, epochs, trainloader):\n",
    "\n",
    "\n",
    "optimizer.step()  # Actualiza los pesos de la red\n",
    "Recalcula los pesos de la red\n",
    "En la funcion def train_model(net, optimizer, epochs, trainloader):\n",
    "\n",
    "\n",
    "Antes de poder calcular los gradientes y actualizar los pesos hay que:\n",
    "1. Definir la función de pérdida\n",
    "    criterion = nn.CrossEntropyLoss()\n",
    "2. Obtener los outputs\n",
    "    outputs = net(images)  # Predicción de la red\n",
    "3. Calcular la pérdida\n",
    "    loss = criterion(outputs, labels)  # Pérdida entre la predicción y las etiquetas reales\n",
    "\n",
    "Una vez realizados estos pasos el cálculo de los gradientes y la actualización de los pesos pueden realizarse\n",
    "con loss.backward() y optimizer.step()\n",
    "\n"
   ]
  },
  {
   "cell_type": "markdown",
   "id": "cc1cecae",
   "metadata": {},
   "source": [
    "5.\n",
    "\n",
    "Este seria un ejemplo del output \n",
    "tensor([-2.3, 1.2, 0.5, -0.8, 3.1, -1.2, 0.7, 2.4, -0.6, 1.8])\n",
    "cada número representa un logit para una clase, entonces para obtener la predicción final,\n",
    "se aplica torch.max(outputs, 1), que devuelve el índice de la clase con el mayor logit para saber cual ha sido la predicción real\n",
    "\n",
    "\n",
    "\n",
    "\n"
   ]
  }
 ],
 "metadata": {
  "kernelspec": {
   "display_name": "base",
   "language": "python",
   "name": "python3"
  },
  "language_info": {
   "codemirror_mode": {
    "name": "ipython",
    "version": 3
   },
   "file_extension": ".py",
   "mimetype": "text/x-python",
   "name": "python",
   "nbconvert_exporter": "python",
   "pygments_lexer": "ipython3",
   "version": "3.12.3"
  }
 },
 "nbformat": 4,
 "nbformat_minor": 5
}

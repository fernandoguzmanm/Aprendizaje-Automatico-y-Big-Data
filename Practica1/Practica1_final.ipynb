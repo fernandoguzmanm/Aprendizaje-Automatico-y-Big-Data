{
 "cells": [
  {
   "cell_type": "code",
   "execution_count": 1,
   "id": "a17a9cda-2575-4ce7-bae4-c4a04d7de49b",
   "metadata": {},
   "outputs": [
    {
     "name": "stdout",
     "output_type": "stream",
     "text": [
      "Se han eliminado 708 filas.\n"
     ]
    }
   ],
   "source": [
    "# Paso 1: Cargar el dataset y eliminar valores nulos y duplicados\n",
    "\n",
    "# Importamos las bibliotecas necesarias\n",
    "import pandas as pd\n",
    "import numpy as np\n",
    "\n",
    "# Cargamos el dataset titanic.csv\n",
    "df = pd.read_csv('titanic.csv')\n",
    "\n",
    "# Guardamos el número inicial de filas\n",
    "initial_rows = df.shape[0]\n",
    "\n",
    "#para ver cuantos habria que eliminar si descartamos primero las columnas no importantes\n",
    "#df.drop(columns=['PassengerId', 'Name', 'Ticket', 'Cabin'], inplace=True)\n",
    "\n",
    "# Eliminamos duplicados\n",
    "df.drop_duplicates(inplace=True)\n",
    "\n",
    "# Eliminamos valores nulos\n",
    "df.dropna(inplace=True)\n",
    "\n",
    "# Guardamos el número de filas después de eliminar duplicados y valores nulos\n",
    "final_rows = df.shape[0]\n",
    "\n",
    "# Filas eliminadas\n",
    "deleted_rows = initial_rows - final_rows\n",
    "print(f'Se han eliminado {deleted_rows} filas.')\n",
    "\n",
    "# Reseteamos los índices\n",
    "df.reset_index(drop=True, inplace=True)\n",
    "\n",
    "\n",
    "#Pregunta: ¿En qué beneficia la eliminación de valores nulos y duplicados?\n",
    "\n",
    "#Respuesta: La eliminación de valores nulos y duplicados nos ayuda a evitar información incorrecta, \n",
    "#           inconsistente o incompleta, lo que puede mejorar la calidad del análisis y de los modelos predictivos al evitar sesgos y sobreajustes."
   ]
  },
  {
   "cell_type": "code",
   "execution_count": 2,
   "id": "20edaa6f-b29d-461f-b107-08185e058b18",
   "metadata": {},
   "outputs": [
    {
     "name": "stdout",
     "output_type": "stream",
     "text": [
      "<class 'pandas.core.frame.DataFrame'>\n",
      "RangeIndex: 183 entries, 0 to 182\n",
      "Data columns (total 12 columns):\n",
      " #   Column       Non-Null Count  Dtype  \n",
      "---  ------       --------------  -----  \n",
      " 0   PassengerId  183 non-null    int64  \n",
      " 1   Survived     183 non-null    int64  \n",
      " 2   Pclass       183 non-null    int64  \n",
      " 3   Name         183 non-null    object \n",
      " 4   Sex          183 non-null    object \n",
      " 5   Age          183 non-null    float64\n",
      " 6   SibSp        183 non-null    int64  \n",
      " 7   Parch        183 non-null    int64  \n",
      " 8   Ticket       183 non-null    object \n",
      " 9   Fare         183 non-null    float64\n",
      " 10  Cabin        183 non-null    object \n",
      " 11  Embarked     183 non-null    object \n",
      "dtypes: float64(2), int64(5), object(5)\n",
      "memory usage: 17.3+ KB\n"
     ]
    }
   ],
   "source": [
    "# Paso 2: Determinar si hay algún atributo que no sea útil\n",
    "\n",
    "df.info()"
   ]
  },
  {
   "cell_type": "code",
   "execution_count": 3,
   "id": "baa981ae-0673-45d0-91c8-7952cedf5507",
   "metadata": {},
   "outputs": [],
   "source": [
    "#Lista de posibles atributos que no nos van a resultar muy utiles\n",
    "\n",
    "# 1. PassengerId: Porque es solo un identificador único para cada pasajero. No tiene un impacto directo en el análisis, ya que no \n",
    "#                 aporta ninguna información útil para el aprendizaje automático.\n",
    "\n",
    "# 2. Name: Aunque contiene información valiosa como los nombres de los pasajeros, para la mayoría de los modelos de aprendizaje automático \n",
    "#          no será útil, a menos que queramos extraer características específicas (como títulos: Mr., Mrs., etc.). \n",
    "\n",
    "# 3. Ticket: El número de ticket es único para cada pasajero o grupo de pasajeros y probablemente no contenga patrones útiles para el modelo. \n",
    "#            A menos que queramos realizar algún análisis específico con los tickets, lo podríamos eliminar.\n",
    "\n",
    "# 4. Cabin: Aunque puede parecer interesante, la columna Cabin tiene muchos valores nulos en el dataset original del Titanic (antes de eliminarlos). \n",
    "#           Además, los números de cabina pueden no ser particularmente útiles para predecir la supervivencia."
   ]
  },
  {
   "cell_type": "code",
   "execution_count": 4,
   "id": "13bb5f0a-862b-4fdc-a1ad-30e7a77edd91",
   "metadata": {},
   "outputs": [
    {
     "data": {
      "text/html": [
       "<div>\n",
       "<style scoped>\n",
       "    .dataframe tbody tr th:only-of-type {\n",
       "        vertical-align: middle;\n",
       "    }\n",
       "\n",
       "    .dataframe tbody tr th {\n",
       "        vertical-align: top;\n",
       "    }\n",
       "\n",
       "    .dataframe thead th {\n",
       "        text-align: right;\n",
       "    }\n",
       "</style>\n",
       "<table border=\"1\" class=\"dataframe\">\n",
       "  <thead>\n",
       "    <tr style=\"text-align: right;\">\n",
       "      <th></th>\n",
       "      <th>PassengerId</th>\n",
       "      <th>Survived</th>\n",
       "      <th>Pclass</th>\n",
       "      <th>Name</th>\n",
       "      <th>Sex</th>\n",
       "      <th>Age</th>\n",
       "      <th>SibSp</th>\n",
       "      <th>Parch</th>\n",
       "      <th>Ticket</th>\n",
       "      <th>Fare</th>\n",
       "      <th>Cabin</th>\n",
       "      <th>Embarked</th>\n",
       "    </tr>\n",
       "  </thead>\n",
       "  <tbody>\n",
       "    <tr>\n",
       "      <th>0</th>\n",
       "      <td>2</td>\n",
       "      <td>1</td>\n",
       "      <td>1</td>\n",
       "      <td>Cumings, Mrs. John Bradley (Florence Briggs Th...</td>\n",
       "      <td>female</td>\n",
       "      <td>38.0</td>\n",
       "      <td>1</td>\n",
       "      <td>0</td>\n",
       "      <td>PC 17599</td>\n",
       "      <td>71.2833</td>\n",
       "      <td>C85</td>\n",
       "      <td>C</td>\n",
       "    </tr>\n",
       "    <tr>\n",
       "      <th>1</th>\n",
       "      <td>4</td>\n",
       "      <td>1</td>\n",
       "      <td>1</td>\n",
       "      <td>Futrelle, Mrs. Jacques Heath (Lily May Peel)</td>\n",
       "      <td>female</td>\n",
       "      <td>35.0</td>\n",
       "      <td>1</td>\n",
       "      <td>0</td>\n",
       "      <td>113803</td>\n",
       "      <td>53.1000</td>\n",
       "      <td>C123</td>\n",
       "      <td>S</td>\n",
       "    </tr>\n",
       "    <tr>\n",
       "      <th>2</th>\n",
       "      <td>7</td>\n",
       "      <td>0</td>\n",
       "      <td>1</td>\n",
       "      <td>McCarthy, Mr. Timothy J</td>\n",
       "      <td>male</td>\n",
       "      <td>54.0</td>\n",
       "      <td>0</td>\n",
       "      <td>0</td>\n",
       "      <td>17463</td>\n",
       "      <td>51.8625</td>\n",
       "      <td>E46</td>\n",
       "      <td>S</td>\n",
       "    </tr>\n",
       "    <tr>\n",
       "      <th>3</th>\n",
       "      <td>11</td>\n",
       "      <td>1</td>\n",
       "      <td>3</td>\n",
       "      <td>Sandstrom, Miss. Marguerite Rut</td>\n",
       "      <td>female</td>\n",
       "      <td>4.0</td>\n",
       "      <td>1</td>\n",
       "      <td>1</td>\n",
       "      <td>PP 9549</td>\n",
       "      <td>16.7000</td>\n",
       "      <td>G6</td>\n",
       "      <td>S</td>\n",
       "    </tr>\n",
       "    <tr>\n",
       "      <th>4</th>\n",
       "      <td>12</td>\n",
       "      <td>1</td>\n",
       "      <td>1</td>\n",
       "      <td>Bonnell, Miss. Elizabeth</td>\n",
       "      <td>female</td>\n",
       "      <td>58.0</td>\n",
       "      <td>0</td>\n",
       "      <td>0</td>\n",
       "      <td>113783</td>\n",
       "      <td>26.5500</td>\n",
       "      <td>C103</td>\n",
       "      <td>S</td>\n",
       "    </tr>\n",
       "  </tbody>\n",
       "</table>\n",
       "</div>"
      ],
      "text/plain": [
       "   PassengerId  Survived  Pclass  \\\n",
       "0            2         1       1   \n",
       "1            4         1       1   \n",
       "2            7         0       1   \n",
       "3           11         1       3   \n",
       "4           12         1       1   \n",
       "\n",
       "                                                Name     Sex   Age  SibSp  \\\n",
       "0  Cumings, Mrs. John Bradley (Florence Briggs Th...  female  38.0      1   \n",
       "1       Futrelle, Mrs. Jacques Heath (Lily May Peel)  female  35.0      1   \n",
       "2                            McCarthy, Mr. Timothy J    male  54.0      0   \n",
       "3                    Sandstrom, Miss. Marguerite Rut  female   4.0      1   \n",
       "4                           Bonnell, Miss. Elizabeth  female  58.0      0   \n",
       "\n",
       "   Parch    Ticket     Fare Cabin Embarked  \n",
       "0      0  PC 17599  71.2833   C85        C  \n",
       "1      0    113803  53.1000  C123        S  \n",
       "2      0     17463  51.8625   E46        S  \n",
       "3      1   PP 9549  16.7000    G6        S  \n",
       "4      0    113783  26.5500  C103        S  "
      ]
     },
     "execution_count": 4,
     "metadata": {},
     "output_type": "execute_result"
    }
   ],
   "source": [
    "# Si decidieramos eliminar las columnas de antes, descomentar la siguiente linea\n",
    "# df.drop(columns=['PassengerId', 'Name', 'Ticket', 'Cabin'], inplace=True)\n",
    "\n",
    "# Verificamos el dataframe después de la eliminación\n",
    "df.head()"
   ]
  },
  {
   "cell_type": "code",
   "execution_count": 5,
   "id": "c6802933-3222-451d-9013-88cc062abeb7",
   "metadata": {},
   "outputs": [
    {
     "data": {
      "image/png": "[encoded data removed]",
      "text/plain": [
       "<Figure size 1000x800 with 2 Axes>"
      ]
     },
     "metadata": {},
     "output_type": "display_data"
    }
   ],
   "source": [
    "# Paso 3: Relaciones entre atributos (diagramas de dispersión y correlación)\n",
    "\n",
    "import seaborn as sns\n",
    "import matplotlib.pyplot as plt\n",
    "\n",
    "#from sklearn.preprocessing import LabelEncoder\n",
    "\n",
    "# Usamos LabelEncoder para convertir 'Sex' en numérico (0 y 1)\n",
    "#label_encoder = LabelEncoder()\n",
    "#df['Sex'] = label_encoder.fit_transform(df['Sex'])\n",
    "\n",
    "# Usamos pd.get_dummies() para convertir 'Embarked' en variables dummy\n",
    "#df = pd.get_dummies(df, columns=['Embarked'], drop_first=True)\n",
    "\n",
    "#correlation_matrix = df.corr()\n",
    "\n",
    "#Descomentar hasta aqui si queremos convertir Sex y Embarked para que puedan ser procesados tambien\n",
    "\n",
    "\n",
    "# Seleccionamos solo las columnas numéricas\n",
    "numerical_columns = df.select_dtypes(include=['float64', 'int64']).columns\n",
    "\n",
    "# Calculamos la correlación entre estas columnas numéricas\n",
    "correlation_matrix = df[numerical_columns].corr()\n",
    "\n",
    "# Dibujamos un heatmap para visualizar las correlaciones\n",
    "plt.figure(figsize=(10, 8))\n",
    "sns.heatmap(correlation_matrix, annot=True, cmap='coolwarm', linewidths=0.5)\n",
    "plt.title('Matriz de Correlación')\n",
    "plt.show()"
   ]
  },
  {
   "cell_type": "code",
   "execution_count": 6,
   "id": "8ce16296-7118-4d30-8d7b-7c5ad7b3a85c",
   "metadata": {
    "vscode": {
     "languageId": "ruby"
    }
   },
   "outputs": [],
   "source": [
    "#Lo mas relacionado en esta matriz de Correlación \n",
    "# Fare y Pclass -> esto se debe a que cuando más sube la clase 1(primera) -> 3(tercera) el precio del billete baja\n",
    "# Age y survived -> se puede atribuir al tender a salvar niños antes que a señores mayores y que los jovenes suelen tenter mas resistencia \n",
    "# Fare y Parch // Fare y sibSp -> indica que con familias mas grandes suelen tener que pagar mas por sus billetes ya sea por si hay q comprar billetes individuales o comprar un camarote mejor\n",
    "# Age y Pclass -> muestra que la gente mas joven son los que suelen tener menos poder adquisitivos para comprar un camarote en mejor clase"
   ]
  },
  {
   "cell_type": "code",
   "execution_count": 7,
   "id": "35d98577-7526-4c57-9909-88b95a1e040a",
   "metadata": {},
   "outputs": [
    {
     "name": "stdout",
     "output_type": "stream",
     "text": [
      "       PassengerId    Survived      Pclass         Age       SibSp  \\\n",
      "count   183.000000  183.000000  183.000000  183.000000  183.000000   \n",
      "mean    455.366120    0.672131    1.191257   35.674426    0.464481   \n",
      "std     247.052476    0.470725    0.515187   15.643866    0.644159   \n",
      "min       2.000000    0.000000    1.000000    0.920000    0.000000   \n",
      "25%     263.500000    0.000000    1.000000   24.000000    0.000000   \n",
      "50%     457.000000    1.000000    1.000000   36.000000    0.000000   \n",
      "75%     676.000000    1.000000    1.000000   47.500000    1.000000   \n",
      "max     890.000000    1.000000    3.000000   80.000000    3.000000   \n",
      "\n",
      "            Parch        Fare  \n",
      "count  183.000000  183.000000  \n",
      "mean     0.475410   78.682469  \n",
      "std      0.754617   76.347843  \n",
      "min      0.000000    0.000000  \n",
      "25%      0.000000   29.700000  \n",
      "50%      0.000000   57.000000  \n",
      "75%      1.000000   90.000000  \n",
      "max      4.000000  512.329200  \n"
     ]
    }
   ],
   "source": [
    "# Paso 4: Descripción estadística de los atributos numéricos\n",
    "\n",
    "numerical_description = df.describe()\n",
    "print(numerical_description)"
   ]
  },
  {
   "cell_type": "code",
   "execution_count": 8,
   "id": "cca5c0be-db26-4ce5-b5d2-8bfa1adf774c",
   "metadata": {},
   "outputs": [],
   "source": [
    "#count: Cantidad de observaciones no nulas.\n",
    "#mean: Media aritmética.\n",
    "#std: Desviación estándar.\n",
    "#min: Valor mínimo.\n",
    "#25%: Primer cuartil (el 25% de los datos están por debajo de este valor).\n",
    "#50% (mediana): Segundo cuartil (el 50% de los datos están por debajo de este valor).\n",
    "#75%: Tercer cuartil (el 75% de los datos están por debajo de este valor).\n",
    "#max: Valor máximo.\n",
    "\n",
    "\n",
    "# Descripción de cada variable:\n",
    "\n",
    "# 1. PassengerId:\n",
    "# count: 183 pasajeros.\n",
    "# mean: La media de los identificadores de los pasajeros es aproximadamente 455.37.\n",
    "# std: Desviación estándar es 247.05, alta porque los IDs son únicos.\n",
    "# min: El valor mínimo es 2.\n",
    "# 25%: El 25% de los pasajeros tiene un identificador menor a 263.5.\n",
    "# 50% (mediana): La mediana es 457.\n",
    "# 75%: El 75% tiene un ID menor a 676.\n",
    "# max: El valor máximo es 890.\n",
    "\n",
    "# 2. Survived (Supervivencia):\n",
    "# count: 183 pasajeros.\n",
    "# mean: El 67.2% de los pasajeros sobrevivió (0.672).\n",
    "# std: La desviación estándar es 0.471, valores binarios (0 o 1).\n",
    "# min: El valor mínimo es 0, indicando que algunos pasajeros no sobrevivieron.\n",
    "# 25%: El 25% no sobrevivió (valor 0).\n",
    "# 50% (mediana): Más del 50% sobrevivió (mediana de 1).\n",
    "# 75%: El 75% sobrevivió.\n",
    "# max: El valor máximo es 1, indicando supervivencia.\n",
    "\n",
    "# 3. Pclass (Clase de billete):\n",
    "# count: 183 pasajeros.\n",
    "# mean: 1.19, la mayoría de los pasajeros viajaba en primera clase.\n",
    "# std: Desviación estándar de 0.515, leves diferencias en la clase de los billetes.\n",
    "# min: El valor mínimo es 1, algunos pasajeros viajaban en primera clase.\n",
    "# 25%: El 25% de los pasajeros viajaba en primera clase.\n",
    "# 50% (mediana): La mayoría viajaba en primera clase (mediana 1).\n",
    "# 75%: El 75% también viajaba en primera clase.\n",
    "# max: El valor máximo es 3, indicando que algunos pasajeros viajaban en tercera clase.\n",
    "\n",
    "# 4. Age (Edad):\n",
    "# count: 183 pasajeros.\n",
    "# mean: Edad promedio de 35.67 años.\n",
    "# std: Desviación estándar de 15.64, indicando gran variabilidad en las edades.\n",
    "# min: La edad mínima es 0.92 años (bebé de menos de 1 año).\n",
    "# 25%: El 25% de los pasajeros tiene menos de 24 años.\n",
    "# 50% (mediana): Edad mediana es 36 años.\n",
    "# 75%: El 75% tiene menos de 47.5 años.\n",
    "# max: La edad máxima es 80 años.\n",
    "\n",
    "# 5. SibSp (Número de hermanos/cónyuges a bordo):\n",
    "# count: 183 pasajeros.\n",
    "# mean: Promedio de 0.46 hermanos o cónyuges a bordo.\n",
    "# std: Desviación estándar de 0.64, indicando variación en los acompañantes.\n",
    "# min: El valor mínimo es 0, pasajeros sin hermanos o cónyuge.\n",
    "# 25%: El 25% no tenía acompañantes familiares.\n",
    "# 50% (mediana): La mediana es 0, indicando que más del 50% viajaba sin acompañantes familiares.\n",
    "# 75%: El 75% viajaba con 1 o menos acompañantes.\n",
    "# max: El valor máximo es 3 acompañantes familiares.\n",
    "\n",
    "# 6. Parch (Número de padres/hijos a bordo):\n",
    "# count: 183 pasajeros.\n",
    "# mean: Promedio de 0.47 padres o hijos a bordo.\n",
    "# std: Desviación estándar de 0.75, indicando variación en los acompañantes familiares.\n",
    "# min: El valor mínimo es 0, algunos pasajeros no viajaban con padres o hijos.\n",
    "# 25%: El 25% de los pasajeros viajaba sin padres o hijos.\n",
    "# 50% (mediana): La mediana es 0, indicando que más del 50% no viajaba con padres o hijos.\n",
    "# 75%: El 75% viajaba con 1 o menos padres/hijos.\n",
    "# max: El valor máximo es 4 acompañantes familiares.\n",
    "\n",
    "# 7. Fare (Tarifa):\n",
    "# count: 183 pasajeros.\n",
    "# mean: Tarifa promedio es 78.68 unidades monetarias.\n",
    "# std: Desviación estándar alta de 76.35, indicando gran variabilidad en las tarifas pagadas.\n",
    "# min: El valor mínimo es 0, algunos pasajeros no pagaron tarifa.\n",
    "# 25%: El 25% pagó menos de 29.7.\n",
    "# 50% (mediana): La tarifa mediana es 57.\n",
    "# 75%: El 75% pagó menos de 90 unidades.\n",
    "# max: El valor máximo es 512.33 unidades monetarias."
   ]
  },
  {
   "cell_type": "code",
   "execution_count": 9,
   "id": "2845b7de-bd34-4e59-8926-f1873c8862ce",
   "metadata": {},
   "outputs": [
    {
     "data": {
      "image/png": "[encoded data removed]",
      "text/plain": [
       "<Figure size 800x400 with 1 Axes>"
      ]
     },
     "metadata": {},
     "output_type": "display_data"
    },
    {
     "name": "stdout",
     "output_type": "stream",
     "text": [
      "Valor más frecuente de Sex: male\n"
     ]
    },
    {
     "data": {
      "image/png": "[encoded data removed]",
      "text/plain": [
       "<Figure size 800x400 with 1 Axes>"
      ]
     },
     "metadata": {},
     "output_type": "display_data"
    },
    {
     "name": "stdout",
     "output_type": "stream",
     "text": [
      "Valor más frecuente de Pclass: 1\n"
     ]
    },
    {
     "data": {
      "image/png": "[encoded data removed]",
      "text/plain": [
       "<Figure size 800x400 with 1 Axes>"
      ]
     },
     "metadata": {},
     "output_type": "display_data"
    },
    {
     "name": "stdout",
     "output_type": "stream",
     "text": [
      "Valor más frecuente de Embarked: S\n"
     ]
    }
   ],
   "source": [
    "# Paso 5: Análisis de atributos categóricos\n",
    "\n",
    "# Gráfico de barras para los atributos categóricos\n",
    "categorical_columns = ['Sex', 'Pclass', 'Embarked']\n",
    "\n",
    "for column in categorical_columns:\n",
    "    plt.figure(figsize=(8, 4))\n",
    "    sns.countplot(data=df, x=column)\n",
    "    plt.title(f'Distribución de {column}')\n",
    "    plt.show()\n",
    "\n",
    "    # Frecuencia del valor más común\n",
    "    most_frequent_value = df[column].mode()[0]\n",
    "    print(f'Valor más frecuente de {column}: {most_frequent_value}')\n"
   ]
  },
  {
   "cell_type": "code",
   "execution_count": 10,
   "id": "74472fbd-ccf5-424b-a056-d0034add801f",
   "metadata": {},
   "outputs": [],
   "source": [
    "# El atributo Sex está balanceado. Los atributos Pclass y Embarked no."
   ]
  },
  {
   "cell_type": "code",
   "execution_count": 11,
   "id": "bc5d6f73-f61a-4de4-baac-fdbcb6d81df6",
   "metadata": {},
   "outputs": [
    {
     "data": {
      "image/png": "[encoded data removed]",
      "text/plain": [
       "<Figure size 800x400 with 1 Axes>"
      ]
     },
     "metadata": {},
     "output_type": "display_data"
    },
    {
     "data": {
      "image/png": "[encoded data removed]",
      "text/plain": [
       "<Figure size 800x400 with 1 Axes>"
      ]
     },
     "metadata": {},
     "output_type": "display_data"
    },
    {
     "data": {
      "image/png": "[encoded data removed]",
      "text/plain": [
       "<Figure size 800x400 with 1 Axes>"
      ]
     },
     "metadata": {},
     "output_type": "display_data"
    },
    {
     "data": {
      "image/png": "[encoded data removed]",
      "text/plain": [
       "<Figure size 800x400 with 1 Axes>"
      ]
     },
     "metadata": {},
     "output_type": "display_data"
    }
   ],
   "source": [
    "# Paso 6: Detección de outliers\n",
    "\n",
    "# Gráficos de caja (boxplots) para identificar outliers\n",
    "numerical_columns = ['Age', 'Fare', 'SibSp', 'Parch']\n",
    "\n",
    "for column in numerical_columns:\n",
    "    plt.figure(figsize=(8, 4))\n",
    "    sns.boxplot(data=df, x=column)\n",
    "    plt.title(f'Boxplot de {column}')\n",
    "    plt.show()\n"
   ]
  },
  {
   "cell_type": "code",
   "execution_count": 12,
   "id": "5c5eca81-c5e3-4f1f-9485-b284a456eb4c",
   "metadata": {},
   "outputs": [],
   "source": [
    "# Hay valores atípicos (outliers) en los gráficos de caja (boxplots):\n",
    "\n",
    "# 1. Fare (Tarifa): Hay varios outliers visibles, representados por pequeños círculos fuera de los bigotes del gráfico. Estos valores son \n",
    "# mucho más altos que el resto de los datos, lo que indica que algunas personas pagaron tarifas significativamente más altas que la mayoría.\n",
    "    \n",
    "# 2. SibSp (Número de hermanos/esposos a bordo): Se puede observar un outlier a la derecha de los bigotes, lo que indica que al menos \n",
    "# una persona tenía un número de hermanos/esposos a bordo superior al rango típico.\n",
    "\n",
    "# 3. Parch (Número de padres/hijos a bordo): También hay un outlier visible, lo que indica que una persona tenía más padres/hijos a bordo de \n",
    "# lo habitual.\n",
    "    \n",
    "# Los boxplots de Age (Edad) no parecen mostrar outliers, lo que indica que la mayoría de los datos para esta variable están dentro de un rango normal."
   ]
  },
  {
   "cell_type": "code",
   "execution_count": 13,
   "id": "83dae5f0-7b1d-4dda-8d64-8d6d52fac7da",
   "metadata": {},
   "outputs": [
    {
     "name": "stdout",
     "output_type": "stream",
     "text": [
      "   PassengerId  Survived  Pclass  \\\n",
      "0            2         1       1   \n",
      "1            4         1       1   \n",
      "2            7         0       1   \n",
      "3           11         1       3   \n",
      "4           12         1       1   \n",
      "\n",
      "                                                Name     Sex   Age  SibSp  \\\n",
      "0  Cumings, Mrs. John Bradley (Florence Briggs Th...  female  38.0      1   \n",
      "1       Futrelle, Mrs. Jacques Heath (Lily May Peel)  female  35.0      1   \n",
      "2                            McCarthy, Mr. Timothy J    male  54.0      0   \n",
      "3                    Sandstrom, Miss. Marguerite Rut  female   4.0      1   \n",
      "4                           Bonnell, Miss. Elizabeth  female  58.0      0   \n",
      "\n",
      "   Parch    Ticket     Fare Cabin  Sex_LabelEncoded  Embarked_C  Embarked_Q  \\\n",
      "0      0  PC 17599  71.2833   C85                 0        True       False   \n",
      "1      0    113803  53.1000  C123                 0       False       False   \n",
      "2      0     17463  51.8625   E46                 1       False       False   \n",
      "3      1   PP 9549  16.7000    G6                 0       False       False   \n",
      "4      0    113783  26.5500  C103                 0       False       False   \n",
      "\n",
      "   Embarked_S  \n",
      "0       False  \n",
      "1        True  \n",
      "2        True  \n",
      "3        True  \n",
      "4        True  \n"
     ]
    }
   ],
   "source": [
    "# Paso 7: Convertir atributos categóricos a numéricos\n",
    "\n",
    "from sklearn.preprocessing import OneHotEncoder, LabelEncoder\n",
    "\n",
    "# Usamos LabelEncoder para Sex\n",
    "label_encoder = LabelEncoder()\n",
    "df['Sex_LabelEncoded'] = label_encoder.fit_transform(df['Sex'])\n",
    "\n",
    "# Usamos OneHotEncoder para Embarked\n",
    "df_encoded = pd.get_dummies(df, columns=['Embarked'])\n",
    "\n",
    "print(df_encoded.head())\n"
   ]
  },
  {
   "cell_type": "code",
   "execution_count": 14,
   "id": "587b1783-e6ce-4d98-8f53-d3efac071a89",
   "metadata": {},
   "outputs": [],
   "source": [
    "#¿Cuál es la mejor opción entre OneHotEncoder y LabelEncoder?\n",
    "\n",
    "# OneHotEncoder es más adecuado para atributos sin orden jerárquico (como Embarked), mientras que LabelEncoder puede ser \n",
    "# más apropiado para atributos que tienen un sentido de orden, aunque en este caso puede inducir al modelo a pensar que hay una relación \n",
    "# ordinal entre los valores."
   ]
  },
  {
   "cell_type": "code",
   "execution_count": 15,
   "id": "8db6bcda-ac2b-429d-a781-de68657aeedc",
   "metadata": {},
   "outputs": [
    {
     "name": "stdout",
     "output_type": "stream",
     "text": [
      "Estandarización:\n",
      "[[ 0.14906507 -0.0971798   0.83362754 -0.63172982]\n",
      " [-0.0432295  -0.3359971   0.83362754 -0.63172982]\n",
      " [ 1.17463611 -0.35225028 -0.7230443  -0.63172982]\n",
      " [-2.03027338 -0.81407038  0.83362754  0.69708118]\n",
      " [ 1.43102886 -0.68470165 -0.7230443  -0.63172982]]\n",
      "\n",
      "Normalización:\n",
      "[[0.46889226 0.13913574 0.33333333 0.        ]\n",
      " [0.43095599 0.1036443  0.33333333 0.        ]\n",
      " [0.67121902 0.10122886 0.         0.        ]\n",
      " [0.0389479  0.03259623 0.33333333 0.25      ]\n",
      " [0.72180071 0.05182215 0.         0.        ]]\n"
     ]
    }
   ],
   "source": [
    "# Paso 8: Normalización y estandarización\n",
    "\n",
    "from sklearn.preprocessing import StandardScaler, MinMaxScaler\n",
    "\n",
    "# Estandarización (media = 0, desviación estándar = 1)\n",
    "scaler = StandardScaler()\n",
    "df_standardized = scaler.fit_transform(df[['Age', 'Fare', 'SibSp', 'Parch']])\n",
    "\n",
    "# Normalización (rango entre 0 y 1)\n",
    "minmax_scaler = MinMaxScaler()\n",
    "df_normalized = minmax_scaler.fit_transform(df[['Age', 'Fare', 'SibSp', 'Parch']])\n",
    "\n",
    "# Mostramos los primeros resultados\n",
    "print('Estandarización:')\n",
    "print(df_standardized[:5])\n",
    "print('\\nNormalización:')\n",
    "print(df_normalized[:5])\n"
   ]
  },
  {
   "cell_type": "code",
   "execution_count": 16,
   "id": "5c66039d-4309-4f42-a71f-a20eb19c4c3d",
   "metadata": {},
   "outputs": [],
   "source": [
    "# ¿Qué opción es mejor, normalización o estandarización?\n",
    "\n",
    "# Depende del algoritmo que se usará después. La estandarización es útil cuando los datos tienen distribuciones normales, mientras que \n",
    "# la normalización es más apropiada cuando queremos todos los datos en un rango específico (por ejemplo, entre 0 y 1)."
   ]
  },
  {
   "cell_type": "code",
   "execution_count": 17,
   "id": "98232183-9f93-4268-bd8a-dcd6cde57ec0",
   "metadata": {},
   "outputs": [],
   "source": [
    "# PARTE B\n",
    "# vuelvo a hacer los imports por si queremos separar la practica en dos ipynb distintos"
   ]
  },
  {
   "cell_type": "code",
   "execution_count": 18,
   "id": "b049cfc5",
   "metadata": {},
   "outputs": [],
   "source": [
    "import random\n",
    "import numpy as np\n",
    "import pandas as pd \n",
    "\n",
    "# Fijar una semilla para reproducibilidad\n",
    "SEED = 33\n",
    "random.seed(SEED)\n",
    "np.random.seed(SEED)\n"
   ]
  },
  {
   "cell_type": "code",
   "execution_count": 19,
   "id": "44e1753e",
   "metadata": {},
   "outputs": [],
   "source": [
    "# Paso 1: Carga el dataset de MovieLens de 100K\n",
    "from surprise import Dataset\n",
    "\n",
    "# Cargar el dataset\n",
    "data = Dataset.load_builtin('ml-100k')"
   ]
  },
  {
   "cell_type": "code",
   "execution_count": 20,
   "id": "041c6f26",
   "metadata": {},
   "outputs": [],
   "source": [
    "# Paso 2: Divide el dataset en una partición simple\n",
    "from surprise.model_selection import train_test_split\n",
    "\n",
    "# Dividir en conjunto de entrenamiento (75%) y evaluación (25%)\n",
    "trainset, testset = train_test_split(data, test_size=0.25, random_state=SEED)\n"
   ]
  },
  {
   "cell_type": "code",
   "execution_count": 21,
   "id": "bc4eae2c",
   "metadata": {},
   "outputs": [
    {
     "name": "stdout",
     "output_type": "stream",
     "text": [
      "Computing the pearson similarity matrix...\n",
      "Done computing similarity matrix.\n",
      "Computing the pearson similarity matrix...\n",
      "Done computing similarity matrix.\n"
     ]
    },
    {
     "data": {
      "text/plain": [
       "<surprise.prediction_algorithms.matrix_factorization.NMF at 0x1f849f02ff0>"
      ]
     },
     "execution_count": 21,
     "metadata": {},
     "output_type": "execute_result"
    }
   ],
   "source": [
    "# Paso 3: Evaluar distintos algoritmos\n",
    "\n",
    "# A:  Basado en vecinos\n",
    "from surprise import KNNBasic\n",
    "\n",
    "    # A1: Basado en usuarios\n",
    "sim_options_user = {'name': 'pearson', 'user_based': True}\n",
    "algo_knn_user = KNNBasic(sim_options=sim_options_user)\n",
    "algo_knn_user.fit(trainset)\n",
    "\n",
    "\n",
    "    # A2: Basado en productos\n",
    "sim_options_producto = {'name': 'pearson', 'user_based': False}\n",
    "algo_knn_producto = KNNBasic(sim_options=sim_options_producto)\n",
    "algo_knn_producto.fit(trainset)\n",
    "\n",
    "# B:  Basado en factorizacion de matrices\n",
    "from surprise import SVD, NMF\n",
    "\n",
    "    # B1: SVD\n",
    "algo_svd = SVD(random_state=SEED)\n",
    "algo_svd.fit(trainset)\n",
    "\n",
    "    # B2: NMF\n",
    "algo_nmf = NMF(random_state=SEED)\n",
    "algo_nmf.fit(trainset)"
   ]
  },
  {
   "cell_type": "code",
   "execution_count": 22,
   "id": "47813c99",
   "metadata": {},
   "outputs": [
    {
     "name": "stdout",
     "output_type": "stream",
     "text": [
      "Ejemplo de 5 predicciones del modelo knn_usuario:\n",
      "user: 655        item: 919        r_ui = 2.00   est = 3.92   {'actual_k': 40, 'was_impossible': False}\n",
      "user: 665        item: 660        r_ui = 4.00   est = 3.66   {'actual_k': 40, 'was_impossible': False}\n",
      "user: 435        item: 571        r_ui = 2.00   est = 2.31   {'actual_k': 20, 'was_impossible': False}\n",
      "user: 318        item: 196        r_ui = 3.00   est = 3.99   {'actual_k': 40, 'was_impossible': False}\n",
      "user: 524        item: 1456       r_ui = 3.00   est = 3.97   {'actual_k': 4, 'was_impossible': False}\n",
      "Diferencia total de los 5 mostrados (knn_usuario): 4.5303\n",
      "\n",
      "Ejemplo de 5 predicciones del modelo knn_producto:\n",
      "user: 655        item: 919        r_ui = 2.00   est = 2.94   {'actual_k': 40, 'was_impossible': False}\n",
      "user: 665        item: 660        r_ui = 4.00   est = 3.30   {'actual_k': 40, 'was_impossible': False}\n",
      "user: 435        item: 571        r_ui = 2.00   est = 2.84   {'actual_k': 40, 'was_impossible': False}\n",
      "user: 318        item: 196        r_ui = 3.00   est = 3.86   {'actual_k': 40, 'was_impossible': False}\n",
      "user: 524        item: 1456       r_ui = 3.00   est = 3.94   {'actual_k': 10, 'was_impossible': False}\n",
      "Diferencia total de los 5 mostrados (knn_producto): 4.2878\n",
      "\n",
      "Ejemplo de 5 predicciones del modelo SVD:\n",
      "user: 655        item: 919        r_ui = 2.00   est = 3.14   {'was_impossible': False}\n",
      "user: 665        item: 660        r_ui = 4.00   est = 3.71   {'was_impossible': False}\n",
      "user: 435        item: 571        r_ui = 2.00   est = 2.36   {'was_impossible': False}\n",
      "user: 318        item: 196        r_ui = 3.00   est = 4.12   {'was_impossible': False}\n",
      "user: 524        item: 1456       r_ui = 3.00   est = 3.45   {'was_impossible': False}\n",
      "Diferencia total de los 5 mostrados (SVD): 3.3458\n",
      "\n",
      "Ejemplo de 5 predicciones del modelo NMF:\n",
      "user: 655        item: 919        r_ui = 2.00   est = 3.35   {'was_impossible': False}\n",
      "user: 665        item: 660        r_ui = 4.00   est = 3.47   {'was_impossible': False}\n",
      "user: 435        item: 571        r_ui = 2.00   est = 2.16   {'was_impossible': False}\n",
      "user: 318        item: 196        r_ui = 3.00   est = 3.98   {'was_impossible': False}\n",
      "user: 524        item: 1456       r_ui = 3.00   est = 2.88   {'was_impossible': False}\n",
      "Diferencia total de los 5 mostrados (NMF): 3.1398\n",
      "\n"
     ]
    }
   ],
   "source": [
    "# Paso 5: Obtener predicciones\n",
    "\n",
    "def calcular_diferencia_top5(predicciones):\n",
    "    r_ui_vals = np.array([pred.r_ui for pred in predicciones[:5]])  # Ratings reales\n",
    "    est_vals = np.array([pred.est for pred in predicciones[:5]])    # Ratings estimados\n",
    "    return np.sum(np.abs(r_ui_vals - est_vals))  # Suma de errores absolutos\n",
    "\n",
    "\n",
    "pred_knn_user = algo_knn_user.test(testset)\n",
    "pred_knn_producto = algo_knn_producto.test(testset)\n",
    "pred_svd = algo_svd.test(testset)\n",
    "pred_nmf = algo_nmf.test(testset)\n",
    "\n",
    "# Ejemplo: mostrar 5 predicciones del modelo knn_usuario\n",
    "print(\"Ejemplo de 5 predicciones del modelo knn_usuario:\")\n",
    "for pred in pred_knn_user[:5]:\n",
    "    print(pred)\n",
    "print(f\"Diferencia total de los 5 mostrados (knn_usuario): {calcular_diferencia_top5(pred_knn_user):.4f}\\n\")\n",
    "\n",
    "# Ejemplo: mostrar 5 predicciones del modelo knn_producto\n",
    "print(\"Ejemplo de 5 predicciones del modelo knn_producto:\")\n",
    "for pred in pred_knn_producto[:5]:\n",
    "    print(pred)\n",
    "print(f\"Diferencia total de los 5 mostrados (knn_producto): {calcular_diferencia_top5(pred_knn_producto):.4f}\\n\")\n",
    "\n",
    "# Ejemplo: mostrar 5 predicciones del modelo SVD\n",
    "print(\"Ejemplo de 5 predicciones del modelo SVD:\")\n",
    "for pred in pred_svd[:5]:\n",
    "    print(pred)\n",
    "print(f\"Diferencia total de los 5 mostrados (SVD): {calcular_diferencia_top5(pred_svd):.4f}\\n\")\n",
    "\n",
    "# Ejemplo: mostrar 5 predicciones del modelo NMF\n",
    "print(\"Ejemplo de 5 predicciones del modelo NMF:\")\n",
    "for pred in pred_nmf[:5]:\n",
    "    print(pred)\n",
    "print(f\"Diferencia total de los 5 mostrados (NMF): {calcular_diferencia_top5(pred_nmf):.4f}\\n\")\n"
   ]
  },
  {
   "cell_type": "markdown",
   "id": "e3a7ea1d",
   "metadata": {},
   "source": [
    "En los modelos knn aparece el valor actual_k que significa la cantidad de vecinos que ha utilizado para hacer la parediccion y el was_imposible dice si ha sido posible realizar la prediccion, en los modelos knn puede deberse a que no tenga vecinos.\n",
    "\n",
    "Se puede ver que los modelos SVD y NMF dan mejores resultados, es decir que tienen una predicciones mas acertadas. Entre los modelos knn suelen tener mejores resultados el basado en productos.\n",
    "Estas observaciones son para solo los 5 elementos, si se evaluan todos quizas tengan valores distintos aun que seguramente no sean muy distintos los resultados"
   ]
  },
  {
   "cell_type": "code",
   "execution_count": 23,
   "id": "52d8b0c2",
   "metadata": {},
   "outputs": [
    {
     "name": "stdout",
     "output_type": "stream",
     "text": [
      "RMSE knn_usuario 1.0101\n",
      "RMSE knn_producto 1.0404\n",
      "RMSE SVD 0.9347\n",
      "RMSE NMF 0.9611\n",
      "\n",
      "         Modelo      RMSE  Precision@10  Recall@10   NDCG@10\n",
      "0   KNN_Usuario  1.010051      0.323181   0.624450  0.547580\n",
      "1  KNN_Producto  1.040405      0.270371   0.557531  0.437946\n",
      "2           SVD  0.934743      0.320424   0.617265  0.534246\n",
      "3           NMF  0.961117      0.310562   0.604995  0.516157\n"
     ]
    }
   ],
   "source": [
    "# Paso 6: Tabla métricas\n",
    "\n",
    "from surprise import accuracy\n",
    "import numpy as np\n",
    "from sklearn.metrics import precision_score, recall_score, ndcg_score\n",
    "\n",
    "# Calcular RMSE\n",
    "rmse_knn_user = accuracy.rmse(pred_knn_user, verbose=False)\n",
    "rmse_knn_producto = accuracy.rmse(pred_knn_producto, verbose=False)\n",
    "rmse_svd = accuracy.rmse(pred_svd, verbose=False)\n",
    "rmse_nmf = accuracy.rmse(pred_nmf, verbose=False)\n",
    "\n",
    "print(f\"RMSE knn_usuario {rmse_knn_user:.4f}\")\n",
    "print(f\"RMSE knn_producto {rmse_knn_producto:.4f}\")\n",
    "print(f\"RMSE SVD {rmse_svd:.4f}\")\n",
    "print(f\"RMSE NMF {rmse_nmf:.4f}\\n\")\n",
    "\n",
    "def compute_topk_metrics(predictions, k=10):\n",
    "    user_est_true = {}\n",
    "\n",
    "    # Agrupar predicciones por usuario\n",
    "    for pred in predictions:\n",
    "        uid = pred.uid\n",
    "        if uid not in user_est_true:\n",
    "            user_est_true[uid] = []\n",
    "        user_est_true[uid].append((pred.r_ui, pred.est))\n",
    "    \n",
    "    precisions, recalls, ndcgs = [], [], []\n",
    "    \n",
    "    for user_preds in user_est_true.values():\n",
    "        # Ordenar por la predicción estimada\n",
    "        user_preds.sort(key=lambda x: x[1], reverse=True)\n",
    "\n",
    "        # Relevancia real: 1 si rating real > 4, 0 en otro caso\n",
    "        true_relevance = [1 if r > 4 else 0 for r, _ in user_preds]\n",
    "        est_scores = [est for _, est in user_preds]\n",
    "\n",
    "        # Vector binario de predicciones: 1 en top-k, 0 en el resto\n",
    "        pred_binary = [1 if i < k else 0 for i in range(len(user_preds))]\n",
    "\n",
    "        # Cálculo de métricas\n",
    "        if sum(true_relevance) > 0:  # Evitar división por 0\n",
    "            prec = precision_score(true_relevance, pred_binary, zero_division=0)\n",
    "            rec = recall_score(true_relevance, pred_binary, zero_division=0)\n",
    "        else:\n",
    "            prec, rec = 0, 0\n",
    "\n",
    "        # Calcular NDCG correctamente\n",
    "        if len(true_relevance) > 1 and len(est_scores) > 1:\n",
    "            ndcg = ndcg_score([true_relevance], [est_scores], k=k)  # Pasa como listas anidadas\n",
    "        else:\n",
    "            ndcg = 0  # Evita errores si hay menos de 2 elementos\n",
    "\n",
    "        precisions.append(prec)\n",
    "        recalls.append(rec)\n",
    "        ndcgs.append(ndcg)\n",
    "    \n",
    "    return np.mean(precisions), np.mean(recalls), np.mean(ndcgs)\n",
    "\n",
    "# Calcular métricas top-k para cada modelo\n",
    "prec_knn_user, rec_knn_user, ndcg_knn_user = compute_topk_metrics(pred_knn_user, k=10)\n",
    "prec_knn_producto, rec_knn_producto, ndcg_knn_producto = compute_topk_metrics(pred_knn_producto, k=10)\n",
    "prec_svd, rec_svd, ndcg_svd = compute_topk_metrics(pred_svd, k=10)\n",
    "prec_nmf, rec_nmf, ndcg_nmf = compute_topk_metrics(pred_nmf, k=10)\n",
    "\n",
    "# Crear un DataFrame para mostrar los resultados\n",
    "results = pd.DataFrame({\n",
    "    'Modelo': ['KNN_Usuario', 'KNN_Producto', 'SVD', 'NMF'],\n",
    "    'RMSE': [rmse_knn_user, rmse_knn_producto, rmse_svd, rmse_nmf],\n",
    "    'Precision@10': [prec_knn_user, prec_knn_producto, prec_svd, prec_nmf],\n",
    "    'Recall@10': [rec_knn_user, rec_knn_producto, rec_svd, rec_nmf],\n",
    "    'NDCG@10': [ndcg_knn_user, ndcg_knn_producto, ndcg_svd, ndcg_nmf]\n",
    "})\n",
    "\n",
    "print(results)\n",
    "\n"
   ]
  },
  {
   "cell_type": "markdown",
   "id": "fd9b2db4",
   "metadata": {},
   "source": [
    "RMSE es el error promedio\n",
    "SVD  (0.934743) tiene el menor RMSE, lo que indica que sus predicciones están más cerca de los valores reales en promedio.\n",
    "\n",
    "Precision la proporcion de los recomendados realmente relevantes (cuyo rating sea superior a 4) y dice cuantas de las de los positivos son reales\n",
    "KNN-Usuario (0.323181) y SVD (0.320424) tienen la mejor precisión, lo que indica que cuando recomienda algo, es más probable que sea relevante.\n",
    "\n",
    "Recall cuantos de los positivos los marco como negativos (FN)\n",
    "KNN-Usuario (0.6245) y SVD (0.6173) tienen el mejor recall, lo que significa que capturan la mayor cantidad de productos relevantes en su top-10.\n",
    "\n",
    "NDCG (Normalized Discounted Cumulative Gain) Evalúa la calidad del ordenamiento de las recomendaciones\n",
    "KNN-Usuario (0.547580) y SVD (0.547580) tienen la mejor calidad de ranking, lo que indica que no solo recomiendan bien, sino que posicionan mejor los productos relevantes en los primeros lugares\n",
    "\n",
    "El mejor modelo en general es SVD, ya que tiene el menor RMSE, una alta precisión y recall y un buen NDCG.\n",
    "KNN-Usuario también es bastante bueno, con la mejor precisión y recall, pero con un RMSE un poco más alto (peor).\n",
    "NMF no destaca en nada\n",
    "KNN-Producto seria el peor de los evaluados."
   ]
  }
 ],
 "metadata": {
  "kernelspec": {
   "display_name": "base",
   "language": "python",
   "name": "python3"
  },
  "language_info": {
   "codemirror_mode": {
    "name": "ipython",
    "version": 3
   },
   "file_extension": ".py",
   "mimetype": "text/x-python",
   "name": "python",
   "nbconvert_exporter": "python",
   "pygments_lexer": "ipython3",
   "version": "3.12.3"
  }
 },
 "nbformat": 4,
 "nbformat_minor": 5
}
